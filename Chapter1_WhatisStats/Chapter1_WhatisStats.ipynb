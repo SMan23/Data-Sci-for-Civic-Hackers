{
 "metadata": {
  "name": "",
  "signature": "sha256:649d9740f32af0681de1377ea549b2c862693b3523f558e2a6cd59f4acc1667a"
 },
 "nbformat": 3,
 "nbformat_minor": 0,
 "worksheets": [
  {
   "cells": [
    {
     "cell_type": "heading",
     "level": 1,
     "metadata": {},
     "source": [
      "Chapter 1: What is Statistics?"
     ]
    },
    {
     "cell_type": "heading",
     "level": 5,
     "metadata": {},
     "source": [
      "...or (HOW THE HECK DO I MAKE SENSE OF THIS DATA?!)"
     ]
    },
    {
     "cell_type": "markdown",
     "metadata": {},
     "source": [
      " <br >"
     ]
    },
    {
     "cell_type": "markdown",
     "metadata": {},
     "source": [
      "All right! Time to start learning some data science to better our community!\n",
      "<br>\n",
      "Let's dive into an example that underscores the dire need for <strong>good</strong> statistical practice:"
     ]
    },
    {
     "cell_type": "heading",
     "level": 2,
     "metadata": {},
     "source": [
      "HEADLINE: "
     ]
    },
    {
     "cell_type": "heading",
     "level": 2,
     "metadata": {},
     "source": [
      "The Statistics Show That UC Berkeley Discriminates Against Female Applicants!"
     ]
    },
    {
     "cell_type": "heading",
     "level": 3,
     "metadata": {},
     "source": [
      "... or do they?"
     ]
    },
    {
     "cell_type": "markdown",
     "metadata": {},
     "source": []
    },
    {
     "cell_type": "code",
     "collapsed": false,
     "input": [
      "import pandas as pd\n",
      "import numpy as np\n",
      "from numpy import unique"
     ],
     "language": "python",
     "metadata": {},
     "outputs": [],
     "prompt_number": 1
    },
    {
     "cell_type": "code",
     "collapsed": false,
     "input": [
      "sexBias_Data = pd.read_csv('Data/sexbias.csv')"
     ],
     "language": "python",
     "metadata": {},
     "outputs": [],
     "prompt_number": 2
    },
    {
     "cell_type": "code",
     "collapsed": false,
     "input": [
      "sexBias_Data.head()"
     ],
     "language": "python",
     "metadata": {},
     "outputs": [
      {
       "html": [
        "<div style=\"max-height:1000px;max-width:1500px;overflow:auto;\">\n",
        "<table border=\"1\" class=\"dataframe\">\n",
        "  <thead>\n",
        "    <tr style=\"text-align: right;\">\n",
        "      <th></th>\n",
        "      <th>sex</th>\n",
        "      <th>department</th>\n",
        "      <th>accepted</th>\n",
        "    </tr>\n",
        "  </thead>\n",
        "  <tbody>\n",
        "    <tr>\n",
        "      <th>0</th>\n",
        "      <td> male</td>\n",
        "      <td> A</td>\n",
        "      <td> Y</td>\n",
        "    </tr>\n",
        "    <tr>\n",
        "      <th>1</th>\n",
        "      <td> male</td>\n",
        "      <td> A</td>\n",
        "      <td> Y</td>\n",
        "    </tr>\n",
        "    <tr>\n",
        "      <th>2</th>\n",
        "      <td> male</td>\n",
        "      <td> A</td>\n",
        "      <td> Y</td>\n",
        "    </tr>\n",
        "    <tr>\n",
        "      <th>3</th>\n",
        "      <td> male</td>\n",
        "      <td> A</td>\n",
        "      <td> Y</td>\n",
        "    </tr>\n",
        "    <tr>\n",
        "      <th>4</th>\n",
        "      <td> male</td>\n",
        "      <td> A</td>\n",
        "      <td> Y</td>\n",
        "    </tr>\n",
        "  </tbody>\n",
        "</table>\n",
        "<p>5 rows \u00d7 3 columns</p>\n",
        "</div>"
       ],
       "metadata": {},
       "output_type": "pyout",
       "prompt_number": 4,
       "text": [
        "    sex department accepted\n",
        "0  male          A        Y\n",
        "1  male          A        Y\n",
        "2  male          A        Y\n",
        "3  male          A        Y\n",
        "4  male          A        Y\n",
        "\n",
        "[5 rows x 3 columns]"
       ]
      }
     ],
     "prompt_number": 4
    },
    {
     "cell_type": "code",
     "collapsed": false,
     "input": [
      "sexBias_Data.describe()"
     ],
     "language": "python",
     "metadata": {},
     "outputs": [
      {
       "html": [
        "<div style=\"max-height:1000px;max-width:1500px;overflow:auto;\">\n",
        "<table border=\"1\" class=\"dataframe\">\n",
        "  <thead>\n",
        "    <tr style=\"text-align: right;\">\n",
        "      <th></th>\n",
        "      <th>sex</th>\n",
        "      <th>department</th>\n",
        "      <th>accepted</th>\n",
        "    </tr>\n",
        "  </thead>\n",
        "  <tbody>\n",
        "    <tr>\n",
        "      <th>count</th>\n",
        "      <td> 4526</td>\n",
        "      <td> 4526</td>\n",
        "      <td> 4526</td>\n",
        "    </tr>\n",
        "    <tr>\n",
        "      <th>unique</th>\n",
        "      <td>    2</td>\n",
        "      <td>    6</td>\n",
        "      <td>    2</td>\n",
        "    </tr>\n",
        "    <tr>\n",
        "      <th>top</th>\n",
        "      <td> male</td>\n",
        "      <td>    A</td>\n",
        "      <td>    N</td>\n",
        "    </tr>\n",
        "    <tr>\n",
        "      <th>freq</th>\n",
        "      <td> 2691</td>\n",
        "      <td>  933</td>\n",
        "      <td> 2771</td>\n",
        "    </tr>\n",
        "  </tbody>\n",
        "</table>\n",
        "<p>4 rows \u00d7 3 columns</p>\n",
        "</div>"
       ],
       "metadata": {},
       "output_type": "pyout",
       "prompt_number": 5,
       "text": [
        "         sex department accepted\n",
        "count   4526       4526     4526\n",
        "unique     2          6        2\n",
        "top     male          A        N\n",
        "freq    2691        933     2771\n",
        "\n",
        "[4 rows x 3 columns]"
       ]
      }
     ],
     "prompt_number": 5
    },
    {
     "cell_type": "code",
     "collapsed": false,
     "input": [
      "sexBias_Data['accepted'][sexBias_Data['accepted'] == 'Y'] = 1\n",
      "sexBias_Data['accepted'][sexBias_Data['accepted'] == 'N'] = 0"
     ],
     "language": "python",
     "metadata": {},
     "outputs": [],
     "prompt_number": 3
    },
    {
     "cell_type": "code",
     "collapsed": false,
     "input": [
      "all_males = sexBias_Data[sexBias_Data['sex'] == 'male']\n",
      "all_females = sexBias_Data[sexBias_Data['sex'] == 'female']"
     ],
     "language": "python",
     "metadata": {},
     "outputs": [],
     "prompt_number": 4
    },
    {
     "cell_type": "code",
     "collapsed": false,
     "input": [
      "all_males.describe()"
     ],
     "language": "python",
     "metadata": {},
     "outputs": [
      {
       "html": [
        "<div style=\"max-height:1000px;max-width:1500px;overflow:auto;\">\n",
        "<table border=\"1\" class=\"dataframe\">\n",
        "  <thead>\n",
        "    <tr style=\"text-align: right;\">\n",
        "      <th></th>\n",
        "      <th>sex</th>\n",
        "      <th>department</th>\n",
        "      <th>accepted</th>\n",
        "    </tr>\n",
        "  </thead>\n",
        "  <tbody>\n",
        "    <tr>\n",
        "      <th>count</th>\n",
        "      <td> 2691</td>\n",
        "      <td> 2691</td>\n",
        "      <td> 2691</td>\n",
        "    </tr>\n",
        "    <tr>\n",
        "      <th>unique</th>\n",
        "      <td>    1</td>\n",
        "      <td>    6</td>\n",
        "      <td>    2</td>\n",
        "    </tr>\n",
        "    <tr>\n",
        "      <th>top</th>\n",
        "      <td> male</td>\n",
        "      <td>    A</td>\n",
        "      <td>    0</td>\n",
        "    </tr>\n",
        "    <tr>\n",
        "      <th>freq</th>\n",
        "      <td> 2691</td>\n",
        "      <td>  825</td>\n",
        "      <td> 1493</td>\n",
        "    </tr>\n",
        "  </tbody>\n",
        "</table>\n",
        "<p>4 rows \u00d7 3 columns</p>\n",
        "</div>"
       ],
       "metadata": {},
       "output_type": "pyout",
       "prompt_number": 5,
       "text": [
        "         sex department  accepted\n",
        "count   2691       2691      2691\n",
        "unique     1          6         2\n",
        "top     male          A         0\n",
        "freq    2691        825      1493\n",
        "\n",
        "[4 rows x 3 columns]"
       ]
      }
     ],
     "prompt_number": 5
    },
    {
     "cell_type": "code",
     "collapsed": false,
     "input": [
      "all_females.describe()"
     ],
     "language": "python",
     "metadata": {},
     "outputs": [
      {
       "html": [
        "<div style=\"max-height:1000px;max-width:1500px;overflow:auto;\">\n",
        "<table border=\"1\" class=\"dataframe\">\n",
        "  <thead>\n",
        "    <tr style=\"text-align: right;\">\n",
        "      <th></th>\n",
        "      <th>sex</th>\n",
        "      <th>department</th>\n",
        "      <th>accepted</th>\n",
        "    </tr>\n",
        "  </thead>\n",
        "  <tbody>\n",
        "    <tr>\n",
        "      <th>count</th>\n",
        "      <td>   1835</td>\n",
        "      <td> 1835</td>\n",
        "      <td> 1835</td>\n",
        "    </tr>\n",
        "    <tr>\n",
        "      <th>unique</th>\n",
        "      <td>      1</td>\n",
        "      <td>    6</td>\n",
        "      <td>    2</td>\n",
        "    </tr>\n",
        "    <tr>\n",
        "      <th>top</th>\n",
        "      <td> female</td>\n",
        "      <td>    C</td>\n",
        "      <td>    0</td>\n",
        "    </tr>\n",
        "    <tr>\n",
        "      <th>freq</th>\n",
        "      <td>   1835</td>\n",
        "      <td>  593</td>\n",
        "      <td> 1278</td>\n",
        "    </tr>\n",
        "  </tbody>\n",
        "</table>\n",
        "<p>4 rows \u00d7 3 columns</p>\n",
        "</div>"
       ],
       "metadata": {},
       "output_type": "pyout",
       "prompt_number": 9,
       "text": [
        "           sex department  accepted\n",
        "count     1835       1835      1835\n",
        "unique       1          6         2\n",
        "top     female          C         0\n",
        "freq      1835        593      1278\n",
        "\n",
        "[4 rows x 3 columns]"
       ]
      }
     ],
     "prompt_number": 9
    },
    {
     "cell_type": "code",
     "collapsed": false,
     "input": [
      "(all_males['accepted'] == 0).sum()"
     ],
     "language": "python",
     "metadata": {},
     "outputs": [
      {
       "metadata": {},
       "output_type": "pyout",
       "prompt_number": 10,
       "text": [
        "1493"
       ]
      }
     ],
     "prompt_number": 10
    },
    {
     "cell_type": "code",
     "collapsed": false,
     "input": [
      "(all_females['accepted'] == 0).sum()"
     ],
     "language": "python",
     "metadata": {},
     "outputs": [
      {
       "metadata": {},
       "output_type": "pyout",
       "prompt_number": 11,
       "text": [
        "1278"
       ]
      }
     ],
     "prompt_number": 11
    },
    {
     "cell_type": "code",
     "collapsed": false,
     "input": [
      "all_males['accepted'].sum()"
     ],
     "language": "python",
     "metadata": {},
     "outputs": [
      {
       "metadata": {},
       "output_type": "pyout",
       "prompt_number": 12,
       "text": [
        "1198"
       ]
      }
     ],
     "prompt_number": 12
    },
    {
     "cell_type": "code",
     "collapsed": false,
     "input": [
      "all_females['accepted'].sum()"
     ],
     "language": "python",
     "metadata": {},
     "outputs": [
      {
       "metadata": {},
       "output_type": "pyout",
       "prompt_number": 13,
       "text": [
        "557"
       ]
      }
     ],
     "prompt_number": 13
    },
    {
     "cell_type": "code",
     "collapsed": false,
     "input": [
      "all_males['accepted'].sum() / float(all_females['accepted'].sum())"
     ],
     "language": "python",
     "metadata": {},
     "outputs": [
      {
       "metadata": {},
       "output_type": "pyout",
       "prompt_number": 14,
       "text": [
        "2.1508078994614004"
       ]
      }
     ],
     "prompt_number": 14
    },
    {
     "cell_type": "code",
     "collapsed": false,
     "input": [
      "all_males['accepted'].sum() / float(len(all_males))"
     ],
     "language": "python",
     "metadata": {},
     "outputs": [
      {
       "metadata": {},
       "output_type": "pyout",
       "prompt_number": 13,
       "text": [
        "0.4451876625789669"
       ]
      }
     ],
     "prompt_number": 13
    },
    {
     "cell_type": "code",
     "collapsed": false,
     "input": [
      "all_females['accepted'].sum() / float(len(all_females))"
     ],
     "language": "python",
     "metadata": {},
     "outputs": [
      {
       "metadata": {},
       "output_type": "pyout",
       "prompt_number": 14,
       "text": [
        "0.30354223433242505"
       ]
      }
     ],
     "prompt_number": 14
    },
    {
     "cell_type": "code",
     "collapsed": false,
     "input": [
      "dept = sexBias_Data['department']"
     ],
     "language": "python",
     "metadata": {},
     "outputs": [],
     "prompt_number": 6
    },
    {
     "cell_type": "code",
     "collapsed": false,
     "input": [
      "unique(dept)"
     ],
     "language": "python",
     "metadata": {},
     "outputs": [
      {
       "metadata": {},
       "output_type": "pyout",
       "prompt_number": 7,
       "text": [
        "array(['A', 'B', 'C', 'D', 'E', 'F'], \n",
        "      dtype='|S1')"
       ]
      }
     ],
     "prompt_number": 7
    },
    {
     "cell_type": "code",
     "collapsed": false,
     "input": [
      "def accepted_count(dept, sex):\n",
      "    accepted = sexBias_Data[sexBias_Data['department'] == dept]\n",
      "    accepted =  accepted[accepted['sex'] == sex]\n",
      "    return accepted['accepted'].sum()\n",
      "\n",
      "a_dept = sexBias_Data[sexBias_Data['department'] == 'A']\n",
      "a_males = a_dept[a_dept['sex'] == 'male']\n",
      "a_females = a_dept[a_dept['sex'] == 'female']\n",
      "\n",
      "b_dept = sexBias_Data[sexBias_Data['department'] == 'B']\n",
      "b_males = b_dept[b_dept['sex'] == 'male']\n",
      "b_females = b_dept[b_dept['sex'] == 'female']\n",
      "\n",
      "c_dept = sexBias_Data[sexBias_Data['department'] == 'C']\n",
      "c_males = c_dept[c_dept['sex'] == 'male']\n",
      "c_females = c_dept[c_dept['sex'] == 'female']\n",
      "\n",
      "d_dept = sexBias_Data[sexBias_Data['department'] == 'D']\n",
      "d_males = d_dept[d_dept['sex'] == 'male']\n",
      "d_females = d_dept[d_dept['sex'] == 'female']\n",
      "\n",
      "e_dept = sexBias_Data[sexBias_Data['department'] == 'E']\n",
      "e_males = e_dept[e_dept['sex'] == 'male']\n",
      "e_females = e_dept[e_dept['sex'] == 'female']\n",
      "\n",
      "f_dept = sexBias_Data[sexBias_Data['department'] == 'F']\n",
      "f_males = f_dept[f_dept['sex'] == 'male']\n",
      "f_females = f_dept[f_dept['sex'] == 'female']"
     ],
     "language": "python",
     "metadata": {},
     "outputs": [],
     "prompt_number": 8
    },
    {
     "cell_type": "code",
     "collapsed": false,
     "input": [
      "for i in unique(dept):\n",
      "    for j in ['male', 'female']:\n",
      "        print(\"Department \" + str(i) + \" accepted \" + str(accepted_count(i, j)) + \" \" + str(j) + \"s\")"
     ],
     "language": "python",
     "metadata": {},
     "outputs": [
      {
       "output_type": "stream",
       "stream": "stdout",
       "text": [
        "Department A accepted 512 males\n",
        "Department A accepted 89 females\n",
        "Department B accepted 353 males\n",
        "Department B accepted 17 females\n",
        "Department C accepted 120 males\n",
        "Department C accepted 202 females\n",
        "Department D accepted 138 males\n",
        "Department D accepted 131 females\n",
        "Department E accepted 53 males\n",
        "Department E accepted 94 females\n",
        "Department F accepted 22 males\n",
        "Department F accepted 24 females\n"
       ]
      }
     ],
     "prompt_number": 9
    },
    {
     "cell_type": "code",
     "collapsed": false,
     "input": [
      "len(a_males)"
     ],
     "language": "python",
     "metadata": {},
     "outputs": [
      {
       "metadata": {},
       "output_type": "pyout",
       "prompt_number": 31,
       "text": [
        "825"
       ]
      }
     ],
     "prompt_number": 31
    },
    {
     "cell_type": "code",
     "collapsed": false,
     "input": [
      "accepted_count('A', 'male') / float(len(a_males))"
     ],
     "language": "python",
     "metadata": {},
     "outputs": [
      {
       "metadata": {},
       "output_type": "pyout",
       "prompt_number": 33,
       "text": [
        "0.6206060606060606"
       ]
      }
     ],
     "prompt_number": 33
    },
    {
     "cell_type": "code",
     "collapsed": false,
     "input": [
      "accepted_count('A', 'female') / float(len(a_females))"
     ],
     "language": "python",
     "metadata": {},
     "outputs": [
      {
       "metadata": {},
       "output_type": "pyout",
       "prompt_number": 34,
       "text": [
        "0.8240740740740741"
       ]
      }
     ],
     "prompt_number": 34
    },
    {
     "cell_type": "code",
     "collapsed": false,
     "input": [
      "accepted_count('B', 'male') / float(len(b_males))"
     ],
     "language": "python",
     "metadata": {},
     "outputs": [
      {
       "metadata": {},
       "output_type": "pyout",
       "prompt_number": 35,
       "text": [
        "0.6303571428571428"
       ]
      }
     ],
     "prompt_number": 35
    },
    {
     "cell_type": "code",
     "collapsed": false,
     "input": [
      "accepted_count('B', 'female') / float(len(b_females))"
     ],
     "language": "python",
     "metadata": {},
     "outputs": [
      {
       "metadata": {},
       "output_type": "pyout",
       "prompt_number": 36,
       "text": [
        "0.68"
       ]
      }
     ],
     "prompt_number": 36
    },
    {
     "cell_type": "code",
     "collapsed": false,
     "input": [
      "accepted_count('D', 'male') / float(len(c_males))"
     ],
     "language": "python",
     "metadata": {},
     "outputs": [
      {
       "metadata": {},
       "output_type": "pyout",
       "prompt_number": 10,
       "text": [
        "0.4246153846153846"
       ]
      }
     ],
     "prompt_number": 10
    },
    {
     "cell_type": "code",
     "collapsed": false,
     "input": [
      "accepted_count('D', 'female') / float(len(c_females))"
     ],
     "language": "python",
     "metadata": {},
     "outputs": [
      {
       "metadata": {},
       "output_type": "pyout",
       "prompt_number": 11,
       "text": [
        "0.2209106239460371"
       ]
      }
     ],
     "prompt_number": 11
    },
    {
     "cell_type": "code",
     "collapsed": false,
     "input": [],
     "language": "python",
     "metadata": {},
     "outputs": []
    },
    {
     "cell_type": "heading",
     "level": 2,
     "metadata": {},
     "source": [
      "Bibliography:"
     ]
    },
    {
     "cell_type": "code",
     "collapsed": false,
     "input": [],
     "language": "python",
     "metadata": {},
     "outputs": []
    }
   ],
   "metadata": {}
  }
 ]
}